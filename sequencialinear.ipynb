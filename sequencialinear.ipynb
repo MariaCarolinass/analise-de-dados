{
  "nbformat": 4,
  "nbformat_minor": 0,
  "metadata": {
    "colab": {
      "provenance": [],
      "authorship_tag": "ABX9TyOSae0LywYcjHx/0ScTdxpG",
      "include_colab_link": true
    },
    "kernelspec": {
      "name": "python3",
      "display_name": "Python 3"
    },
    "language_info": {
      "name": "python"
    }
  },
  "cells": [
    {
      "cell_type": "markdown",
      "metadata": {
        "id": "view-in-github",
        "colab_type": "text"
      },
      "source": [
        "<a href=\"https://colab.research.google.com/github/MariaCarolinass/analise-de-dados/blob/main/sequencialinear.ipynb\" target=\"_parent\"><img src=\"https://colab.research.google.com/assets/colab-badge.svg\" alt=\"Open In Colab\"/></a>"
      ]
    },
    {
      "cell_type": "markdown",
      "source": [
        "# Criando uma sequência linear"
      ],
      "metadata": {
        "id": "2wZS-NobeAet"
      }
    },
    {
      "cell_type": "markdown",
      "source": [
        "Importando o numpy:"
      ],
      "metadata": {
        "id": "UHwC8mde6W25"
      }
    },
    {
      "cell_type": "code",
      "execution_count": null,
      "metadata": {
        "id": "MA0zVBlgNLdv"
      },
      "outputs": [],
      "source": [
        "import numpy as np"
      ]
    },
    {
      "cell_type": "markdown",
      "source": [
        "Criando uma lista de dados linear com a função linspace:"
      ],
      "metadata": {
        "id": "E1H-meAF6l6v"
      }
    },
    {
      "cell_type": "code",
      "source": [
        "x = np.linspace(-1, 1, 11)\n",
        "y = x ** 2\n",
        "print(x)\n",
        "print(y)"
      ],
      "metadata": {
        "colab": {
          "base_uri": "https://localhost:8080/"
        },
        "id": "Rsdyz25gNrlZ",
        "outputId": "4030d937-44c1-4474-8725-d6d18e54adc6"
      },
      "execution_count": null,
      "outputs": [
        {
          "output_type": "stream",
          "name": "stdout",
          "text": [
            "[-1.  -0.8 -0.6 -0.4 -0.2  0.   0.2  0.4  0.6  0.8  1. ]\n",
            "[1.   0.64 0.36 0.16 0.04 0.   0.04 0.16 0.36 0.64 1.  ]\n"
          ]
        }
      ]
    },
    {
      "cell_type": "markdown",
      "source": [
        "A função linspace do numpy cria uma lista de valores lineares, igualmente espaçados, a partir de um determinado intervalo dado.\n",
        "\n",
        "**Sintaxe da função:**\n",
        "\n",
        "```\n",
        "np.linspace(inicio, final, numero)\n",
        "```\n",
        "\n",
        "*   inicio: onde a sequência começa.\n",
        "*   final: onde a sequência termina.\n",
        "*   numero: número de valores entre o intervalo da sequência.\n",
        "\n",
        "**Matemáticamente a sequência é criada da seguinte forma:**\n",
        "\n",
        "```\n",
        "Xi = inicio + i * espacamento\n",
        "```\n",
        "\n",
        "Para calcular o espacamento usamos:\n",
        "\n",
        "```\n",
        "espacamento = (final - inicio) / (numero - 1)\n",
        "```\n",
        "\n",
        "**Geração da sequência:**\n",
        "\n",
        "espacamento = (1 - (-1)) / (11 - 1) = 0.2\n",
        "\n",
        "x0 = -1 + 0 * espacamento = -1,\n",
        "\n",
        "x1 = -1 + 1 * espacamento = -0.8,\n",
        "\n",
        "x2 = -1 + 2 * espacamento = -0.6, ...,\n",
        "\n",
        "x10 = -1 + 10 * espacamento = 1\n",
        "\n"
      ],
      "metadata": {
        "id": "H0gVPmq369AJ"
      }
    },
    {
      "cell_type": "markdown",
      "source": [
        "# Plotando sequência no gráfico"
      ],
      "metadata": {
        "id": "gxEZsAH6eHHq"
      }
    },
    {
      "cell_type": "markdown",
      "source": [
        "Importando o matplotlib:"
      ],
      "metadata": {
        "id": "L5jYy_8K6cKf"
      }
    },
    {
      "cell_type": "code",
      "source": [
        "import matplotlib.pyplot as plt"
      ],
      "metadata": {
        "id": "wM5bnGn3OKVu"
      },
      "execution_count": null,
      "outputs": []
    },
    {
      "cell_type": "markdown",
      "source": [
        "Plotando o gráfico com o valores de x e y:"
      ],
      "metadata": {
        "id": "pIPWz2e66gca"
      }
    },
    {
      "cell_type": "code",
      "source": [
        "plt.plot(x, y, \"o\")\n",
        "plt.show()"
      ],
      "metadata": {
        "colab": {
          "base_uri": "https://localhost:8080/",
          "height": 430
        },
        "id": "s0Tmed5FONGG",
        "outputId": "89f9d4b7-98c4-4c62-bad8-c85400698eed"
      },
      "execution_count": null,
      "outputs": [
        {
          "output_type": "display_data",
          "data": {
            "text/plain": [
              "<Figure size 640x480 with 1 Axes>"
            ],
            "image/png": "[encoded data removed]"
          },
          "metadata": {}
        }
      ]
    }
  ]
}