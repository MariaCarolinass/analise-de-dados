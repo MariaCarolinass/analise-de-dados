{
  "nbformat": 4,
  "nbformat_minor": 0,
  "metadata": {
    "colab": {
      "provenance": [],
      "authorship_tag": "ABX9TyPAWKf2ucIGbBY08CCcYv1K",
      "include_colab_link": true
    },
    "kernelspec": {
      "name": "python3",
      "display_name": "Python 3"
    },
    "language_info": {
      "name": "python"
    }
  },
  "cells": [
    {
      "cell_type": "markdown",
      "metadata": {
        "id": "view-in-github",
        "colab_type": "text"
      },
      "source": [
        "<a href=\"https://colab.research.google.com/github/MariaCarolinass/analise-de-dados/blob/main/tarefas/matrizes.ipynb\" target=\"_parent\"><img src=\"https://colab.research.google.com/assets/colab-badge.svg\" alt=\"Open In Colab\"/></a>"
      ]
    },
    {
      "cell_type": "markdown",
      "source": [
        "# Operações Algébricas em Matrizes"
      ],
      "metadata": {
        "id": "rWDX-OQloYX2"
      }
    },
    {
      "cell_type": "markdown",
      "source": [
        "Implemente um conjunto de operações algébricas em matrizes utilizando NumPy. O objetivo é consolidar o entendimento de multiplicação, adição, transposição, inversão de matrizes e cálculo de determinantes."
      ],
      "metadata": {
        "id": "pqWUEQbNobt1"
      }
    },
    {
      "cell_type": "markdown",
      "source": [
        "Importando o Numpy:"
      ],
      "metadata": {
        "id": "yLkUqLQhoiTz"
      }
    },
    {
      "cell_type": "code",
      "execution_count": 1,
      "metadata": {
        "id": "E_x62QvSn9Z-"
      },
      "outputs": [],
      "source": [
        "import numpy as np"
      ]
    },
    {
      "cell_type": "markdown",
      "source": [
        "## Geração das Matrizes:"
      ],
      "metadata": {
        "id": "0IDGmj7PosZo"
      }
    },
    {
      "cell_type": "code",
      "source": [
        "# matriz A\n",
        "A = np.array(np.random.randint(1, 10, size=(3, 3)))\n",
        "print(\"Matriz A:\")\n",
        "print(A)\n",
        "\n",
        "# matriz B\n",
        "B = np.array(np.random.randint(1, 10, size=(3, 3)))\n",
        "print(\"\\nMatriz B:\")\n",
        "print(B)"
      ],
      "metadata": {
        "colab": {
          "base_uri": "https://localhost:8080/"
        },
        "id": "Wq88OyXroskb",
        "outputId": "1751d780-a663-4705-bdbb-0d43a60bff6b"
      },
      "execution_count": 49,
      "outputs": [
        {
          "output_type": "stream",
          "name": "stdout",
          "text": [
            "Matriz A:\n",
            "[[1 8 4]\n",
            " [1 4 5]\n",
            " [6 3 4]]\n",
            "\n",
            "Matriz B:\n",
            "[[5 8 7]\n",
            " [2 1 7]\n",
            " [8 6 7]]\n"
          ]
        }
      ]
    },
    {
      "cell_type": "markdown",
      "source": [
        "## Operações Algébricas:"
      ],
      "metadata": {
        "id": "dNi6R_wGo0Rn"
      }
    },
    {
      "cell_type": "markdown",
      "source": [
        "Soma das matrizes:"
      ],
      "metadata": {
        "id": "jG-ibe_VpWsI"
      }
    },
    {
      "cell_type": "code",
      "source": [
        "soma = A + B\n",
        "print(soma)"
      ],
      "metadata": {
        "colab": {
          "base_uri": "https://localhost:8080/"
        },
        "id": "c-mqlrj7pZvI",
        "outputId": "e3b72ac9-21ec-4035-e53a-e83d45e17116"
      },
      "execution_count": 50,
      "outputs": [
        {
          "output_type": "stream",
          "name": "stdout",
          "text": [
            "[[ 6 16 11]\n",
            " [ 3  5 12]\n",
            " [14  9 11]]\n"
          ]
        }
      ]
    },
    {
      "cell_type": "markdown",
      "source": [
        "Produto das matrizes:"
      ],
      "metadata": {
        "id": "TQD_9TTgqSkQ"
      }
    },
    {
      "cell_type": "code",
      "source": [
        "produto = np.dot(A, B) # ou produto = A @ B\n",
        "print(produto)"
      ],
      "metadata": {
        "colab": {
          "base_uri": "https://localhost:8080/"
        },
        "id": "7yg-aHBJqbc2",
        "outputId": "3f5f1755-aa9e-40ee-f9e3-9134479e3a32"
      },
      "execution_count": 51,
      "outputs": [
        {
          "output_type": "stream",
          "name": "stdout",
          "text": [
            "[[53 40 91]\n",
            " [53 42 70]\n",
            " [68 75 91]]\n"
          ]
        }
      ]
    },
    {
      "cell_type": "markdown",
      "source": [
        "Transposição:"
      ],
      "metadata": {
        "id": "tVIYMTz5qpzF"
      }
    },
    {
      "cell_type": "code",
      "source": [
        "transposta_produto = np.transpose(produto) # ou produto.T\n",
        "print(transposta_produto)"
      ],
      "metadata": {
        "colab": {
          "base_uri": "https://localhost:8080/"
        },
        "id": "r-Z4s3eLqthz",
        "outputId": "cc433390-7606-47a2-abf7-73afbef51d59"
      },
      "execution_count": 52,
      "outputs": [
        {
          "output_type": "stream",
          "name": "stdout",
          "text": [
            "[[53 53 68]\n",
            " [40 42 75]\n",
            " [91 70 91]]\n"
          ]
        }
      ]
    },
    {
      "cell_type": "markdown",
      "source": [
        "Determinante:"
      ],
      "metadata": {
        "id": "VCtFdJ_rrVNJ"
      }
    },
    {
      "cell_type": "code",
      "source": [
        "det_produto = np.linalg.det(produto)\n",
        "print(det_produto)"
      ],
      "metadata": {
        "colab": {
          "base_uri": "https://localhost:8080/"
        },
        "id": "t-pWnfnIrbuc",
        "outputId": "a486493b-2f73-41c8-970f-15541bf7d336"
      },
      "execution_count": 53,
      "outputs": [
        {
          "output_type": "stream",
          "name": "stdout",
          "text": [
            "23624.999999999993\n"
          ]
        }
      ]
    },
    {
      "cell_type": "markdown",
      "source": [
        "Inversão de matriz:"
      ],
      "metadata": {
        "id": "LG2mKy7GroSz"
      }
    },
    {
      "cell_type": "code",
      "source": [
        "if det_produto == 0:\n",
        "  print(\"A matriz não é inversível.\")\n",
        "else:\n",
        "  inversa_produto = np.linalg.inv(produto)\n",
        "  print(inversa_produto)"
      ],
      "metadata": {
        "colab": {
          "base_uri": "https://localhost:8080/"
        },
        "id": "-oHUNpcOrrRX",
        "outputId": "c14c9fa7-ddd7-485f-f6e5-6a3f1eff3de9"
      },
      "execution_count": 54,
      "outputs": [
        {
          "output_type": "stream",
          "name": "stdout",
          "text": [
            "[[-0.06044444  0.13481481 -0.04325926]\n",
            " [-0.00266667 -0.05777778  0.04711111]\n",
            " [ 0.04736508 -0.05312169  0.00448677]]\n"
          ]
        }
      ]
    }
  ]
}