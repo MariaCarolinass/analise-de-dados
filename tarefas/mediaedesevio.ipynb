{
  "nbformat": 4,
  "nbformat_minor": 0,
  "metadata": {
    "colab": {
      "provenance": []
    },
    "kernelspec": {
      "name": "python3",
      "display_name": "Python 3"
    },
    "language_info": {
      "name": "python"
    }
  },
  "cells": [
    {
      "cell_type": "markdown",
      "source": [
        "# Cálculo de Médias e Desvios Padrão"
      ],
      "metadata": {
        "id": "YhAcgRYXR6f0"
      }
    },
    {
      "cell_type": "markdown",
      "source": [
        "Desenvolva um programa que analisa as notas de uma turma de alunos em uma disciplina. O objetivo é gerar um relatório estatístico básico que inclua a média, a variância e o desvio padrão das notas dos alunos."
      ],
      "metadata": {
        "id": "OQ9qocQKSCKB"
      }
    },
    {
      "cell_type": "markdown",
      "source": [
        "Importando o NumPy:"
      ],
      "metadata": {
        "id": "kCzGH-PPSUWw"
      }
    },
    {
      "cell_type": "code",
      "execution_count": 1,
      "metadata": {
        "id": "hlSAoXQyR3lv"
      },
      "outputs": [],
      "source": [
        "import numpy as np"
      ]
    },
    {
      "cell_type": "markdown",
      "source": [
        "Definindo a lista de notas:"
      ],
      "metadata": {
        "id": "NAwVMbi4SfZH"
      }
    },
    {
      "cell_type": "code",
      "source": [
        "notas = [6.3, 9.5, 1.7, 9.1, 8.2, 1.8, 0.4, 7.4, 4.6, 7.7, 8.1, 1.4, 3.8, 6.6,\n",
        "         7.6, 3.4, 3.8, 9.3, 9.9, 2.5, 6.3, 5.1, 5.4, 1.1, 4.5, 2.4, 8.7, 9.9,\n",
        "         2.0, 5.1, 8.0, 5.3, 1.0, 1.3, 8.5, 5.6, 4.7, 0.0, 6.0, 3.2, 2.2, 9.5,\n",
        "         9.7, 5.1, 5.6, 5.4, 8.7, 7.1, 2.6, 8.3]"
      ],
      "metadata": {
        "id": "7ckcpEE7Sh6z"
      },
      "execution_count": 3,
      "outputs": []
    },
    {
      "cell_type": "markdown",
      "source": [
        "Calculando a média das notas:"
      ],
      "metadata": {
        "id": "ElvtFO2nSm_R"
      }
    },
    {
      "cell_type": "code",
      "source": [
        "media = np.mean(notas)"
      ],
      "metadata": {
        "id": "L4HZRBfqTQ4d"
      },
      "execution_count": 4,
      "outputs": []
    },
    {
      "cell_type": "markdown",
      "source": [
        "Calculando a variância das notas:"
      ],
      "metadata": {
        "id": "XZsFbTjoTLQG"
      }
    },
    {
      "cell_type": "code",
      "source": [
        "variancia = np.var(notas)"
      ],
      "metadata": {
        "id": "Ya6zrsL2TQSx"
      },
      "execution_count": 5,
      "outputs": []
    },
    {
      "cell_type": "markdown",
      "source": [
        "Calculando o desvio padrão das notas:"
      ],
      "metadata": {
        "id": "NO2UMzfgTRyk"
      }
    },
    {
      "cell_type": "code",
      "source": [
        "desvio_padrao = np.std(notas)"
      ],
      "metadata": {
        "id": "PXotgaYdTXh_"
      },
      "execution_count": 6,
      "outputs": []
    },
    {
      "cell_type": "markdown",
      "source": [
        "Exibindo os resultados:"
      ],
      "metadata": {
        "id": "ObrcN0R4TW8J"
      }
    },
    {
      "cell_type": "code",
      "source": [
        "print(f\"Média: {media:.2f}\")\n",
        "print(f\"Variância: {variancia:.2f}\")\n",
        "print(f\"Desvio padrão: {desvio_padrao:.2f}\")"
      ],
      "metadata": {
        "colab": {
          "base_uri": "https://localhost:8080/"
        },
        "id": "a_BM2SM5TaRi",
        "outputId": "94feae0d-8941-465a-d044-23f7bf633e71"
      },
      "execution_count": 7,
      "outputs": [
        {
          "output_type": "stream",
          "name": "stdout",
          "text": [
            "Média: 5.43\n",
            "Variância: 8.37\n",
            "Desvio padrão: 2.89\n"
          ]
        }
      ]
    },
    {
      "cell_type": "markdown",
      "source": [
        "## Exibindo os dados com Matplotlib\n"
      ],
      "metadata": {
        "id": "7hgljHBZUaae"
      }
    },
    {
      "cell_type": "markdown",
      "source": [
        "Importando o Matplotlib:"
      ],
      "metadata": {
        "id": "ALpTkEXuU-Z0"
      }
    },
    {
      "cell_type": "code",
      "source": [
        "import matplotlib.pyplot as plt"
      ],
      "metadata": {
        "id": "QMh1v6_DVCeM"
      },
      "execution_count": 8,
      "outputs": []
    },
    {
      "cell_type": "markdown",
      "source": [
        "Gráfico de distribuição de notas:"
      ],
      "metadata": {
        "id": "fpCj96hDVKc3"
      }
    },
    {
      "cell_type": "code",
      "source": [
        "plt.hist(notas, bins=10, color='green', edgecolor='black')\n",
        "plt.xlabel('Notas')\n",
        "plt.ylabel('Frequência')\n",
        "plt.title('Distribuição das Notas')\n",
        "plt.show()"
      ],
      "metadata": {
        "colab": {
          "base_uri": "https://localhost:8080/",
          "height": 472
        },
        "id": "QlzlHgibVQWD",
        "outputId": "0643f1c7-d29e-464b-e4bf-b4a75b315ca5"
      },
      "execution_count": 13,
      "outputs": [
        {
          "output_type": "display_data",
          "data": {
            "text/plain": [
              "<Figure size 640x480 with 1 Axes>"
            ],
            "image/png": "[encoded data removed]"
          },
          "metadata": {}
        }
      ]
    }
  ]
}