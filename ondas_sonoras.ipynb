{
  "nbformat": 4,
  "nbformat_minor": 0,
  "metadata": {
    "colab": {
      "provenance": []
    },
    "kernelspec": {
      "name": "python3",
      "display_name": "Python 3"
    },
    "language_info": {
      "name": "python"
    }
  },
  "cells": [
    {
      "cell_type": "markdown",
      "source": [
        "# Análise de Ondas Sonoras"
      ],
      "metadata": {
        "id": "iUruFB3Mpzpy"
      }
    },
    {
      "cell_type": "markdown",
      "source": [
        "Você é um engenheiro de áudio trabalhando em um projeto de análise de ondas sonoras. Você tem um conjunto de dados que representa as amplitudes de uma onda sonora em diferentes pontos no tempo. Sua tarefa é analisar esses dados usando funções matemáticas do NumPy."
      ],
      "metadata": {
        "id": "ndqpxmAwp8fb"
      }
    },
    {
      "cell_type": "markdown",
      "source": [
        "Importando o NumPy:"
      ],
      "metadata": {
        "id": "mmhGXFtWqJ4y"
      }
    },
    {
      "cell_type": "code",
      "execution_count": 55,
      "metadata": {
        "id": "fDd6VN4DnA_r"
      },
      "outputs": [],
      "source": [
        "import numpy as np"
      ]
    },
    {
      "cell_type": "markdown",
      "source": [
        "Dados: tempo em segundos e amplitudes"
      ],
      "metadata": {
        "id": "CmpfDzYjqpCY"
      }
    },
    {
      "cell_type": "code",
      "source": [
        "tempo = np.linspace(0, 2*np.pi, 1000)\n",
        "amplitudes = np.sin(2*tempo) + 0.5 * np.cos(5*tempo)"
      ],
      "metadata": {
        "id": "l_a3tJcsqWAX"
      },
      "execution_count": 56,
      "outputs": []
    },
    {
      "cell_type": "markdown",
      "source": [
        "## Valor máximo e mínimo das amplitudes"
      ],
      "metadata": {
        "id": "B11g_OOisQai"
      }
    },
    {
      "cell_type": "code",
      "source": [
        "amplitude_maxima = np.max(amplitudes)\n",
        "amplitude_minima = np.min(amplitudes)\n",
        "print(f\"Amplitude máxima: {amplitude_maxima:.4f}\")\n",
        "print(f\"Amplitude mínima: {amplitude_minima:.4f}\")"
      ],
      "metadata": {
        "colab": {
          "base_uri": "https://localhost:8080/"
        },
        "id": "mObhjAQesYvy",
        "outputId": "1e12f973-c7fa-485a-e362-ef1748b8440c"
      },
      "execution_count": 57,
      "outputs": [
        {
          "output_type": "stream",
          "name": "stdout",
          "text": [
            "Amplitude máxima: 1.4627\n",
            "Amplitude mínima: -1.4628\n"
          ]
        }
      ]
    },
    {
      "cell_type": "markdown",
      "source": [
        "## Pontos de tempo onde a amplitude é próxima de zero"
      ],
      "metadata": {
        "id": "zMoYAgRQsXi6"
      }
    },
    {
      "cell_type": "code",
      "source": [
        "print(\"Pontos de tempo onde a amplitude é próxima de zero:\")\n",
        "tolerancia = np.isclose(amplitudes, 0, atol=1e-3)\n",
        "pontos = np.where(tolerancia)\n",
        "for ponto in pontos:\n",
        "    ponto_tempo = tempo[ponto]\n",
        "    for tempo in ponto_tempo:\n",
        "        print(f\"{tempo:.4f} segundos\")"
      ],
      "metadata": {
        "colab": {
          "base_uri": "https://localhost:8080/"
        },
        "id": "FErzz0b9sgN-",
        "outputId": "ad406b4b-4124-4b16-9cfd-6f973ac1aad9"
      },
      "execution_count": 58,
      "outputs": [
        {
          "output_type": "stream",
          "name": "stdout",
          "text": [
            "Pontos de tempo onde a amplitude é próxima de zero:\n",
            "4.7108 segundos\n",
            "4.9561 segundos\n"
          ]
        }
      ]
    },
    {
      "cell_type": "markdown",
      "source": [
        "## Energia total do sinal das amplitudes"
      ],
      "metadata": {
        "id": "0SVsDR66sjYx"
      }
    },
    {
      "cell_type": "code",
      "source": [
        "amplitude_quadrada = amplitudes ** 2\n",
        "energia_total = np.sum(amplitude_quadrada)\n",
        "print(f\"Energia total do sinal: {energia_total:.4f}\")"
      ],
      "metadata": {
        "colab": {
          "base_uri": "https://localhost:8080/"
        },
        "id": "8kzJmuQrstGf",
        "outputId": "92383ab0-a2fb-4990-a8b8-74f625903441"
      },
      "execution_count": 60,
      "outputs": [
        {
          "output_type": "stream",
          "name": "stdout",
          "text": [
            "Energia total do sinal: 624.6250\n"
          ]
        }
      ]
    },
    {
      "cell_type": "markdown",
      "source": [
        "## Importando os dados no Matplotlib"
      ],
      "metadata": {
        "id": "MvHqsX5uI3mZ"
      }
    },
    {
      "cell_type": "markdown",
      "source": [
        "Importando o Matplotlib:"
      ],
      "metadata": {
        "id": "xlUkVJYGI_86"
      }
    },
    {
      "cell_type": "code",
      "source": [
        "import matplotlib.pyplot as plt"
      ],
      "metadata": {
        "id": "4xTVTQHSJDLZ"
      },
      "execution_count": 61,
      "outputs": []
    },
    {
      "cell_type": "code",
      "source": [
        "plt.plot(amplitudes, color='black')\n",
        "plt.xlabel('Tempo (s)')\n",
        "plt.ylabel('Amplitude')\n",
        "plt.title('Onda Sonora')\n",
        "plt.show()"
      ],
      "metadata": {
        "colab": {
          "base_uri": "https://localhost:8080/",
          "height": 472
        },
        "id": "pXNPj2WwJaRB",
        "outputId": "9bc68bab-d595-4676-e56d-aa43b1c65e06"
      },
      "execution_count": 74,
      "outputs": [
        {
          "output_type": "display_data",
          "data": {
            "text/plain": [
              "<Figure size 640x480 with 1 Axes>"
            ],
            "image/png": "[encoded data removed]"
          },
          "metadata": {}
        }
      ]
    }
  ]
}