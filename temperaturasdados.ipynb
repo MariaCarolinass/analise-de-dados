{
  "nbformat": 4,
  "nbformat_minor": 0,
  "metadata": {
    "colab": {
      "provenance": []
    },
    "kernelspec": {
      "name": "python3",
      "display_name": "Python 3"
    },
    "language_info": {
      "name": "python"
    }
  },
  "cells": [
    {
      "cell_type": "markdown",
      "source": [
        "# Analisando Coleta de Temperaturas"
      ],
      "metadata": {
        "id": "FhXEq-dVHHq1"
      }
    },
    {
      "cell_type": "markdown",
      "source": [
        "Você é um cientista de dados trabalhando em um conjunto de dados de temperaturas diárias coletadas ao longo de uma semana. As temperaturas foram registradas em graus Celsius e estão organizadas em um array NumPy."
      ],
      "metadata": {
        "id": "JzT6m7dTHbnO"
      }
    },
    {
      "cell_type": "markdown",
      "source": [
        "Importando o NumPy:"
      ],
      "metadata": {
        "id": "L61SvKO7H2Kx"
      }
    },
    {
      "cell_type": "code",
      "source": [
        "import numpy as np"
      ],
      "metadata": {
        "id": "8TreIZV2Hdku"
      },
      "execution_count": 3,
      "outputs": []
    },
    {
      "cell_type": "markdown",
      "source": [
        "Criando uma array para as temperaturas:"
      ],
      "metadata": {
        "id": "OPgzpr4JIIeI"
      }
    },
    {
      "cell_type": "code",
      "source": [
        "temperaturas = np.array([\n",
        "    [25.5, 26.1, 27.8, 28.3, 27.9, 26.8, 25.9],  # Domingo\n",
        "    [24.8, 25.3, 26.5, 27.1, 26.7, 25.6, 24.9],  # Segunda\n",
        "    [23.9, 24.5, 25.8, 26.4, 26.0, 24.9, 24.1],  # Terça\n",
        "    [24.2, 24.8, 26.1, 26.7, 26.3, 25.2, 24.4],  # Quarta\n",
        "    [25.1, 25.7, 27.0, 27.6, 27.2, 26.1, 25.3],  # Quinta\n",
        "    [26.0, 26.6, 28.1, 28.7, 28.3, 27.2, 26.3],  # Sexta\n",
        "    [25.4, 26.0, 27.5, 28.0, 27.6, 26.5, 25.7]   # Sábado\n",
        "])"
      ],
      "metadata": {
        "id": "BGeBiT2sIb9w"
      },
      "execution_count": 4,
      "outputs": []
    },
    {
      "cell_type": "markdown",
      "source": [
        "## Calcular a temperatura média diária da semana"
      ],
      "metadata": {
        "id": "HW7_DLW8JXux"
      }
    },
    {
      "cell_type": "code",
      "source": [
        "print(\"Temperatura média diária da semana:\")\n",
        "dia = 0\n",
        "for temperatura in temperaturas:\n",
        "    dia += 1\n",
        "    media_temp = np.mean(temperatura)\n",
        "    print(f\"Dia {dia}: {media_temp:.2f}°C\")"
      ],
      "metadata": {
        "id": "lzO9cP1GJmj4",
        "colab": {
          "base_uri": "https://localhost:8080/"
        },
        "outputId": "e6fe4223-3694-46d0-a5f7-b81e031e7bad"
      },
      "execution_count": 36,
      "outputs": [
        {
          "output_type": "stream",
          "name": "stdout",
          "text": [
            "Temperatura média diária da semana:\n",
            "Dia 1: 26.90°C\n",
            "Dia 2: 25.84°C\n",
            "Dia 3: 25.09°C\n",
            "Dia 4: 25.39°C\n",
            "Dia 5: 26.29°C\n",
            "Dia 6: 27.31°C\n",
            "Dia 7: 26.67°C\n"
          ]
        }
      ]
    },
    {
      "cell_type": "markdown",
      "source": [
        "## Encontrar a temperatura máxima e mínima da semana"
      ],
      "metadata": {
        "id": "Rak-CEZ3JbEv"
      }
    },
    {
      "cell_type": "code",
      "source": [
        "max_temp = np.max(temperaturas)\n",
        "min_temp = np.min(temperaturas)\n",
        "print(f\"Temperatura máxima da semana: {max_temp:.2f}°C\")\n",
        "print(f\"Temperatura mínima da semana: {min_temp:.2f}°C\")"
      ],
      "metadata": {
        "id": "-xLRow8HJnLN",
        "colab": {
          "base_uri": "https://localhost:8080/"
        },
        "outputId": "462f366d-b59d-4315-c0fc-8101ee837667"
      },
      "execution_count": 18,
      "outputs": [
        {
          "output_type": "stream",
          "name": "stdout",
          "text": [
            "Temperatura máxima da semana: 28.70°C\n",
            "Temperatura mínima da semana: 23.90°C\n"
          ]
        }
      ]
    },
    {
      "cell_type": "markdown",
      "source": [
        "## Calcular a diferença entre a temperatura máxima e mínima de cada dia da semana"
      ],
      "metadata": {
        "id": "jRc90DFuJdnB"
      }
    },
    {
      "cell_type": "code",
      "source": [
        "print(\"Diferença entre temperatura máxima e mínima de cada dia:\")\n",
        "diferenca_temp = np.max(temperaturas, axis=1) - np.min(temperaturas, axis=1)\n",
        "dia = 0\n",
        "for diferenca in diferenca_temp:\n",
        "    dia += 1\n",
        "    print(f\"Dia {dia}: {diferenca:.2f}°C\")"
      ],
      "metadata": {
        "id": "sdhjTcDpJnz5",
        "colab": {
          "base_uri": "https://localhost:8080/"
        },
        "outputId": "f27bafb8-a7b2-485b-83e5-5b639a900639"
      },
      "execution_count": 23,
      "outputs": [
        {
          "output_type": "stream",
          "name": "stdout",
          "text": [
            "Diferença entre temperatura máxima e mínima de cada dia:\n",
            "Dia 1: 2.80°C\n",
            "Dia 2: 2.30°C\n",
            "Dia 3: 2.50°C\n",
            "Dia 4: 2.50°C\n",
            "Dia 5: 2.50°C\n",
            "Dia 6: 2.70°C\n",
            "Dia 7: 2.60°C\n"
          ]
        }
      ]
    },
    {
      "cell_type": "markdown",
      "source": [
        "## Visualizando os dados com Matplotlib"
      ],
      "metadata": {
        "id": "amR5R2W3eGHU"
      }
    },
    {
      "cell_type": "markdown",
      "source": [
        "Importando o Matplotlib:"
      ],
      "metadata": {
        "id": "3ibSIZdLg9_0"
      }
    },
    {
      "cell_type": "code",
      "source": [
        "import matplotlib.pyplot as plt"
      ],
      "metadata": {
        "id": "IxEVif9Cg8fc"
      },
      "execution_count": 28,
      "outputs": []
    },
    {
      "cell_type": "markdown",
      "source": [
        "Criando gráfico para visualizar a média das temperaturas diárias:"
      ],
      "metadata": {
        "id": "1IrZZ-hMgB00"
      }
    },
    {
      "cell_type": "code",
      "source": [
        "plt.bar(range(1, 8), np.mean(temperaturas, axis=1), color='green')\n",
        "plt.xlabel('Dia da semana')\n",
        "plt.ylabel('Temperatura média (°C)')\n",
        "plt.title('Temperatura média diária da semana')\n",
        "plt.show()"
      ],
      "metadata": {
        "colab": {
          "base_uri": "https://localhost:8080/",
          "height": 472
        },
        "id": "iqnmtRdzeFp9",
        "outputId": "bb6a402a-ef3b-4534-b9f7-8b6c1389b7f4"
      },
      "execution_count": 33,
      "outputs": [
        {
          "output_type": "display_data",
          "data": {
            "text/plain": [
              "<Figure size 640x480 with 1 Axes>"
            ],
            "image/png": "[encoded data removed]"
          },
          "metadata": {}
        }
      ]
    },
    {
      "cell_type": "markdown",
      "source": [
        "Criando gráfico para visualizar a diferença diária entre as temperaturas máxima e mínima:"
      ],
      "metadata": {
        "id": "jtSjsj3ugcBn"
      }
    },
    {
      "cell_type": "code",
      "source": [
        "plt.bar(range(1, 8), diferenca_temp, color='red')\n",
        "plt.xlabel('Dia da semana')\n",
        "plt.ylabel('Diferença de temperatura (°C)')\n",
        "plt.title('Diferença entre temperatura máxima e mínima de cada dia')\n",
        "plt.show()"
      ],
      "metadata": {
        "colab": {
          "base_uri": "https://localhost:8080/",
          "height": 472
        },
        "id": "d14tQSPjgbrw",
        "outputId": "0f79d1d0-e5c1-4cdc-c9ef-42c359387ee1"
      },
      "execution_count": 38,
      "outputs": [
        {
          "output_type": "display_data",
          "data": {
            "text/plain": [
              "<Figure size 640x480 with 1 Axes>"
            ],
            "image/png": "[encoded data removed]"
          },
          "metadata": {}
        }
      ]
    }
  ]
}